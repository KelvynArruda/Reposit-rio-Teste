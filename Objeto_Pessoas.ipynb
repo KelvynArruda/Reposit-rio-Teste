{
  "nbformat": 4,
  "nbformat_minor": 0,
  "metadata": {
    "colab": {
      "name": "Objeto_Pessoas.ipynb",
      "provenance": [],
      "collapsed_sections": [],
      "authorship_tag": "ABX9TyP3oiZ81+4I69c61+mZnUNx",
      "include_colab_link": true
    },
    "kernelspec": {
      "name": "python3",
      "display_name": "Python 3"
    },
    "language_info": {
      "name": "python"
    }
  },
  "cells": [
    {
      "cell_type": "markdown",
      "metadata": {
        "id": "view-in-github",
        "colab_type": "text"
      },
      "source": [
        "<a href=\"https://colab.research.google.com/github/KelvynArruda/Reposit-rio-Teste/blob/main/Objeto_Pessoas.ipynb\" target=\"_parent\"><img src=\"https://colab.research.google.com/assets/colab-badge.svg\" alt=\"Open In Colab\"/></a>"
      ]
    },
    {
      "cell_type": "code",
      "execution_count": 16,
      "metadata": {
        "colab": {
          "base_uri": "https://localhost:8080/"
        },
        "id": "htoUlUoSFxCU",
        "outputId": "15966a98-d78d-4be1-966a-dc99fc931b8e"
      },
      "outputs": [
        {
          "output_type": "stream",
          "name": "stdout",
          "text": [
            "Nome: Maria dos Santos\n",
            "Genero: Feminino\n",
            "Idade:22 anos\n"
          ]
        }
      ],
      "source": [
        "class Pessoas:\n",
        " def __init__(self, nome_completo, genero, idade):\n",
        "   self.nome_completo = nome_completo\n",
        "   self.genero = genero\n",
        "   self.idade = idade\n",
        "\n",
        "maria = Pessoas('Maria dos Santos', 'Feminino', '22 anos')\n",
        "print( \"Nome: \" + maria.nome_completo + \"\\n\" + \"Genero: \" + maria.genero + \"\\n\" +\"Idade:\" + maria.idade)"
      ]
    }
  ]
}