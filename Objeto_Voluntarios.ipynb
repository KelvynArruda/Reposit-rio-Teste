{
  "nbformat": 4,
  "nbformat_minor": 0,
  "metadata": {
    "colab": {
      "name": "Objeto_Voluntarios.ipynb",
      "provenance": [],
      "collapsed_sections": [],
      "authorship_tag": "ABX9TyNTE/P+E8FdwvdvTA2sUemh",
      "include_colab_link": true
    },
    "kernelspec": {
      "name": "python3",
      "display_name": "Python 3"
    },
    "language_info": {
      "name": "python"
    }
  },
  "cells": [
    {
      "cell_type": "markdown",
      "metadata": {
        "id": "view-in-github",
        "colab_type": "text"
      },
      "source": [
        "<a href=\"https://colab.research.google.com/github/KelvynArruda/Reposit-rio-Teste/blob/main/Objeto_Voluntarios.ipynb\" target=\"_parent\"><img src=\"https://colab.research.google.com/assets/colab-badge.svg\" alt=\"Open In Colab\"/></a>"
      ]
    },
    {
      "cell_type": "code",
      "execution_count": 18,
      "metadata": {
        "colab": {
          "base_uri": "https://localhost:8080/"
        },
        "id": "htoUlUoSFxCU",
        "outputId": "3254f536-ff0c-4f68-ab53-8f223d00baf7"
      },
      "outputs": [
        {
          "output_type": "stream",
          "name": "stdout",
          "text": [
            "O nome é: Maria José de Araujo.\n",
            "O cpf é: 254.400.325-59.\n",
            "O cargo é: Auxiliar Administrativo.\n",
            "A matricula é: 0002154.\n",
            "A disponibilidade de horário é: Tarde e Noite.\n",
            "O setor de atuação é: Secretaria\n"
          ]
        }
      ],
      "source": [
        "class Voluntarios:\n",
        " def __init__(self, nome_completo, cpf, cargo, matricula, turno, setor):\n",
        "   self.nome_completo = nome_completo\n",
        "   self.cpf = cpf\n",
        "   self.cargo = cargo\n",
        "   self.matricula = matricula\n",
        "   self.turno = turno\n",
        "   self.setor = setor\n",
        "\n",
        "\n",
        "maria = Voluntarios('Maria José de Araujo', '254.400.325-59', 'Auxiliar Administrativo', '0002154' , 'Tarde e Noite', 'Secretaria')\n",
        "print( \"O nome é: \"+maria.nome_completo + \".\\n\"+\"O cpf é: \" + maria.cpf + \".\\n\" +\"O cargo é: \"+ maria.cargo + \".\\n\" + \"A matricula é: \" + maria.matricula + \".\\n\" + \"A disponibilidade de horário é: \" + maria.turno + \".\\n\" + \"O setor de atuação é: \" + maria.setor)\n"
      ]
    }
  ]
}