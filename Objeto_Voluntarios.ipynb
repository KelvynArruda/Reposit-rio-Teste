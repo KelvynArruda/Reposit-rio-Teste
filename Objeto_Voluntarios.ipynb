{
  "nbformat": 4,
  "nbformat_minor": 0,
  "metadata": {
    "colab": {
      "name": "Objeto Voluntarios.ipynb",
      "provenance": [],
      "collapsed_sections": [],
      "authorship_tag": "ABX9TyNzOhXz76PQRtgJd6CziDNc",
      "include_colab_link": true
    },
    "kernelspec": {
      "name": "python3",
      "display_name": "Python 3"
    },
    "language_info": {
      "name": "python"
    }
  },
  "cells": [
    {
      "cell_type": "markdown",
      "metadata": {
        "id": "view-in-github",
        "colab_type": "text"
      },
      "source": [
        "<a href=\"https://colab.research.google.com/github/KelvynArruda/Reposit-rio-Teste/blob/main/Objeto_Voluntarios.ipynb\" target=\"_parent\"><img src=\"https://colab.research.google.com/assets/colab-badge.svg\" alt=\"Open In Colab\"/></a>"
      ]
    },
    {
      "cell_type": "code",
      "execution_count": 7,
      "metadata": {
        "colab": {
          "base_uri": "https://localhost:8080/"
        },
        "id": "htoUlUoSFxCU",
        "outputId": "63960705-803a-41c3-a3a9-6447c45ee18e"
      },
      "outputs": [
        {
          "output_type": "stream",
          "name": "stdout",
          "text": [
            "O nome é: Maria José de Araujo.\n",
            "O cpf é: 254.400.325-59.\n",
            "O genero é: Feminino.\n",
            "A matricula é: 0002154.\n",
            "A disponibilidade de horário é: Tarde e Noite.\n"
          ]
        }
      ],
      "source": [
        "class Voluntarios:\n",
        " def __init__(self, nome_completo, cpf, genero, matricula, turno):\n",
        "   self.nome_completo = nome_completo\n",
        "   self.cpf = cpf\n",
        "   self.genero = genero\n",
        "   self.matricula = matricula\n",
        "   self.turno = turno\n",
        "\n",
        "maria = Voluntarios('Maria José de Araujo', '254.400.325-59', 'Feminino', '0002154' , 'Tarde e Noite')\n",
        "print( \"O nome é: \"+maria.nome_completo + \".\\n\"+\"O cpf é: \" + maria.cpf + \".\\n\" +\"O genero é: \"+ maria.genero + \".\\n\" + \"A matricula é: \" + maria.matricula + \".\\n\" + \"A disponibilidade de horário é: \" + maria.turno + \".\")"
      ]
    }
  ]
}