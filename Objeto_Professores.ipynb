{
  "nbformat": 4,
  "nbformat_minor": 0,
  "metadata": {
    "colab": {
      "name": "Objeto_Professores.ipynb",
      "provenance": [],
      "collapsed_sections": [],
      "authorship_tag": "ABX9TyOUVBrZqChCIDcRUcMva7mB",
      "include_colab_link": true
    },
    "kernelspec": {
      "name": "python3",
      "display_name": "Python 3"
    },
    "language_info": {
      "name": "python"
    }
  },
  "cells": [
    {
      "cell_type": "markdown",
      "metadata": {
        "id": "view-in-github",
        "colab_type": "text"
      },
      "source": [
        "<a href=\"https://colab.research.google.com/github/KelvynArruda/Reposit-rio-Teste/blob/main/Objeto_Professores.ipynb\" target=\"_parent\"><img src=\"https://colab.research.google.com/assets/colab-badge.svg\" alt=\"Open In Colab\"/></a>"
      ]
    },
    {
      "cell_type": "code",
      "execution_count": 12,
      "metadata": {
        "colab": {
          "base_uri": "https://localhost:8080/"
        },
        "id": "htoUlUoSFxCU",
        "outputId": "1f19b537-c2bc-4307-bdfd-2b49d52a6c2d"
      },
      "outputs": [
        {
          "output_type": "stream",
          "name": "stdout",
          "text": [
            "Nome: Maria dos Santos professora\n",
            "Matricula: 0000001\n",
            "Curso: Turismo\n"
          ]
        }
      ],
      "source": [
        "class Professores:\n",
        " def __init__(self, nome_completo, matricula, curso):\n",
        "   self.nome_completo = nome_completo\n",
        "   self.matricula = matricula\n",
        "   self.curso = curso\n",
        "\n",
        "maria = Professores('Maria dos Santos professora', '0000001', 'Turismo')\n",
        "print( \"Nome: \" +maria.nome_completo + \"\\n\" + \"Matricula: \" + maria.matricula + \"\\n\" + \"Curso: \" + maria.curso)"
      ]
    }
  ]
}