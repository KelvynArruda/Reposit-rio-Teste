{
  "nbformat": 4,
  "nbformat_minor": 0,
  "metadata": {
    "colab": {
      "name": "Classe Bola.ipynb",
      "provenance": [],
      "authorship_tag": "ABX9TyP8bouJ2qo/taS9F8Wy7i5z",
      "include_colab_link": true
    },
    "kernelspec": {
      "name": "python3",
      "display_name": "Python 3"
    },
    "language_info": {
      "name": "python"
    }
  },
  "cells": [
    {
      "cell_type": "markdown",
      "metadata": {
        "id": "view-in-github",
        "colab_type": "text"
      },
      "source": [
        "<a href=\"https://colab.research.google.com/github/KelvynArruda/Reposit-rio-Teste/blob/main/Classe_Bola.ipynb\" target=\"_parent\"><img src=\"https://colab.research.google.com/assets/colab-badge.svg\" alt=\"Open In Colab\"/></a>"
      ]
    },
    {
      "cell_type": "code",
      "execution_count": 11,
      "metadata": {
        "colab": {
          "base_uri": "https://localhost:8080/"
        },
        "id": "ghArB27Dn2V3",
        "outputId": "634f6551-6aac-4b17-b0f7-3e362509d03f"
      },
      "outputs": [
        {
          "output_type": "stream",
          "name": "stdout",
          "text": [
            "azul\n",
            "trocando de cor\n",
            "verde\n"
          ]
        }
      ],
      "source": [
        "class bola():\n",
        "    def __init__(self, cor, circuferencia, material):\n",
        "        self.cor = cor\n",
        "        self.circuferencia = circuferencia\n",
        "        self.material = material\n",
        "\n",
        "    def trocaCor(self):\n",
        "        self.cor = 'verde'\n",
        "\n",
        "    def mostraCor(self):\n",
        "        print(bola1.cor)\n",
        "\n",
        "\n",
        "if __name__ == \"__main__\":\n",
        "    bola1 = bola('azul', 1.57, 'plastico')\n",
        "    bola1.mostraCor()\n",
        "    print('trocando de cor')\n",
        "    bola1.trocaCor()\n",
        "    bola1.mostraCor()"
      ]
    }
  ]
}