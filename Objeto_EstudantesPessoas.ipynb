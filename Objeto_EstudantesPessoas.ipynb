{
  "nbformat": 4,
  "nbformat_minor": 0,
  "metadata": {
    "colab": {
      "name": "Objeto_EstudantesPessoas.ipynb",
      "provenance": [],
      "collapsed_sections": [],
      "authorship_tag": "ABX9TyN8Yj9QP4p0PwypTnVN5dqM",
      "include_colab_link": true
    },
    "kernelspec": {
      "name": "python3",
      "display_name": "Python 3"
    },
    "language_info": {
      "name": "python"
    }
  },
  "cells": [
    {
      "cell_type": "markdown",
      "metadata": {
        "id": "view-in-github",
        "colab_type": "text"
      },
      "source": [
        "<a href=\"https://colab.research.google.com/github/KelvynArruda/Reposit-rio-Teste/blob/main/Objeto_EstudantesPessoas.ipynb\" target=\"_parent\"><img src=\"https://colab.research.google.com/assets/colab-badge.svg\" alt=\"Open In Colab\"/></a>"
      ]
    },
    {
      "cell_type": "code",
      "execution_count": 10,
      "metadata": {
        "colab": {
          "base_uri": "https://localhost:8080/"
        },
        "id": "htoUlUoSFxCU",
        "outputId": "a24d38e8-4bce-4d3d-8803-4d2de757f78f"
      },
      "outputs": [
        {
          "output_type": "stream",
          "name": "stdout",
          "text": [
            "Nome: Maria dos Santos\n",
            "Matricula: 2022013265\n",
            "Curso: Psicologia\n"
          ]
        }
      ],
      "source": [
        "class Estudantes:\n",
        " def __init__(self, nome_completo, matricula, curso):\n",
        "   self.nome_completo = nome_completo\n",
        "   self.matricula = matricula\n",
        "   self.curso = curso\n",
        "\n",
        "maria = Estudantes('Maria dos Santos', '2022013265', 'Psicologia')\n",
        "print( \"Nome: \" +maria.nome_completo + \"\\n\" + \"Matricula: \" + maria.matricula + \"\\n\" + \"Curso: \" + maria.curso)"
      ]
    }
  ]
}