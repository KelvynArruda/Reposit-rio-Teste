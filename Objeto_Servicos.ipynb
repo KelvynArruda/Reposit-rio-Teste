{
  "nbformat": 4,
  "nbformat_minor": 0,
  "metadata": {
    "colab": {
      "name": "Objeto_Servicos.ipynb",
      "provenance": [],
      "collapsed_sections": [],
      "authorship_tag": "ABX9TyONsbCdEGaopeHmLw0k5t64",
      "include_colab_link": true
    },
    "kernelspec": {
      "name": "python3",
      "display_name": "Python 3"
    },
    "language_info": {
      "name": "python"
    }
  },
  "cells": [
    {
      "cell_type": "markdown",
      "metadata": {
        "id": "view-in-github",
        "colab_type": "text"
      },
      "source": [
        "<a href=\"https://colab.research.google.com/github/KelvynArruda/Reposit-rio-Teste/blob/main/Objeto_Servicos.ipynb\" target=\"_parent\"><img src=\"https://colab.research.google.com/assets/colab-badge.svg\" alt=\"Open In Colab\"/></a>"
      ]
    },
    {
      "cell_type": "code",
      "execution_count": 17,
      "metadata": {
        "colab": {
          "base_uri": "https://localhost:8080/"
        },
        "id": "htoUlUoSFxCU",
        "outputId": "e1d0c768-83e7-4eb5-f2ea-8c32f34483fa"
      },
      "outputs": [
        {
          "output_type": "stream",
          "name": "stdout",
          "text": [
            "Curso: Matematica.\n",
            "Estágio: Psicologia.\n",
            "Doações: 350,00 R$ via PIX.\n",
            "Atividades Extras: Bazar\n"
          ]
        }
      ],
      "source": [
        "class Servicos:\n",
        " def __init__(self, curso, estagio, doacoes, at_extras):\n",
        "   self.curso = curso\n",
        "   self.estagio = estagio\n",
        "   self.doacoes = doacoes\n",
        "   self.at_extras = at_extras\n",
        "\n",
        "maria = Servicos('Matematica', 'Psicologia', '350,00 R$ via PIX', 'Bazar')\n",
        "print( \"Curso: \" + maria.curso + \".\\n\" + \"Estágio: \" + maria.estagio + \".\\n\" +\"Doações: \" + maria.doacoes + \".\\n\" + \"Atividades Extras: \" + maria.at_extras)"
      ]
    }
  ]
}